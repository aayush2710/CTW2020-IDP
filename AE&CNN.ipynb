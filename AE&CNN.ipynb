{
 "cells": [
  {
   "cell_type": "code",
   "execution_count": null,
   "metadata": {},
   "outputs": [],
   "source": [
    "LabelledPath = \" \" #Please provide path to labelled dataset\n",
    "UnabelledPath = \" \" #Please provide path to unlabelled dataset"
   ]
  },
  {
   "cell_type": "code",
   "execution_count": null,
   "metadata": {},
   "outputs": [],
   "source": [
    "import numpy as np\n",
    "import h5py\n",
    "from pickle import dump"
   ]
  },
  {
   "cell_type": "code",
   "execution_count": null,
   "metadata": {},
   "outputs": [],
   "source": [
    "f = h5py.File(LabelledPath , \"r\")\n",
    "H = f[\"H_Est\"][:]\n",
    "Pos = f[\"Pos\"][:]\n",
    "f.close()"
   ]
  },
  {
   "cell_type": "code",
   "execution_count": null,
   "metadata": {},
   "outputs": [],
   "source": [
    "f = h5py.File(UnabelledPath , \"r\")\n",
    "X = f[\"H_Est\"][:]\n",
    "f.close()"
   ]
  },
  {
   "cell_type": "code",
   "execution_count": null,
   "metadata": {},
   "outputs": [],
   "source": [
    "import numpy as np\n",
    "\n",
    "from tensorflow.keras.models import Model,Sequential , load_model\n",
    "from tensorflow.keras.layers import Dense , Dropout, Conv2D ,Flatten,AveragePooling2D,Input,Conv2DTranspose,ZeroPadding2D\n",
    "from tensorflow.keras.optimizers import Adam\n",
    "\n",
    "def autoencoder():\n",
    "    model = Sequential()\n",
    "    model.add(Conv2D(128,(5,5),input_shape=(56,924,5),activation = 'relu' , padding='same'))\n",
    "    model.add(AveragePooling2D((1,4)))\n",
    "    model.add(Conv2D(32,(3,3),activation = 'relu' , padding='same'))\n",
    "    model.add(AveragePooling2D((1,4)))\n",
    "    model.add(Conv2D(32,(3,3),activation = 'linear', padding='same' ))\n",
    "    model.add(Conv2DTranspose(32,(3,3) , strides=(1,1)  , padding='same',activation = 'relu' ))\n",
    "    model.add(Conv2DTranspose(128,(3,3) , strides=(1,4)  , padding='same',activation = 'relu' ))\n",
    "    model.add(ZeroPadding2D( ((0, 0), (2, 1))))\n",
    "    model.add(Conv2DTranspose(5,(3,3) , strides=(1,4)  , padding='same',activation = 'linear' ))\n",
    "    model.compile(loss='mean_squared_error', optimizer = Adam(1e-3)) \n",
    "    return model"
   ]
  },
  {
   "cell_type": "code",
   "execution_count": null,
   "metadata": {},
   "outputs": [],
   "source": [
    "ae = autoencoder()\n",
    "ae.summary()"
   ]
  },
  {
   "cell_type": "code",
   "execution_count": null,
   "metadata": {},
   "outputs": [],
   "source": [
    "A = np.array(range(len(X)))\n",
    "np.random.shuffle(A)\n",
    "Train = A[:25000]\n",
    "Val = A[25000:]"
   ]
  },
  {
   "cell_type": "code",
   "execution_count": null,
   "metadata": {},
   "outputs": [],
   "source": [
    "def data_gen(X,bs=1):\n",
    "    for i in range(0,len(X),bs):\n",
    "        end = min(len(X),i+bs)\n",
    "        yield X[i:end],X[i:end]"
   ]
  },
  {
   "cell_type": "code",
   "execution_count": null,
   "metadata": {},
   "outputs": [],
   "source": [
    "from tensorflow.keras.callbacks import EarlyStopping, ModelCheckpoint\n",
    "earlystopper = EarlyStopping(patience = 80, verbose=1)\n",
    "checkpointer = ModelCheckpoint('AE.h5', verbose=1, save_best_only=True)"
   ]
  },
  {
   "cell_type": "code",
   "execution_count": null,
   "metadata": {},
   "outputs": [],
   "source": [
    "for i in range(30):\n",
    "    ae.fit(data_gen(X[Train]), epochs=1, steps_per_epoch=len(Train)  ,callbacks=[earlystopper, checkpointer], validation_data=data_gen(X[Val]) ,validation_steps = len(Val))"
   ]
  },
  {
   "cell_type": "code",
   "execution_count": null,
   "metadata": {},
   "outputs": [],
   "source": [
    "ae = load_model(\"AE.h5\")\n",
    "encoder = Model(ae.input,ae.layers[-5].output)"
   ]
  },
  {
   "cell_type": "code",
   "execution_count": null,
   "metadata": {},
   "outputs": [],
   "source": [
    "H2 = encoder.predict(H)"
   ]
  },
  {
   "cell_type": "markdown",
   "metadata": {},
   "source": [
    "Creating a custom test set"
   ]
  },
  {
   "cell_type": "code",
   "execution_count": null,
   "metadata": {},
   "outputs": [],
   "source": [
    "from sklearn.model_selection import train_test_split\n",
    "H_Train, H_Test , Pos_Train , Pos_Test = train_test_split(H2,Pos,test_size=0.05, random_state=42)"
   ]
  },
  {
   "cell_type": "code",
   "execution_count": null,
   "metadata": {},
   "outputs": [],
   "source": [
    "def CNN():\n",
    "    model = Sequential()\n",
    "    model.add(Conv2D(32,(3,3),activation = 'linear', padding='same',input_shape=(56,57,32) ))\n",
    "    model.add(Conv2D(16,(3,3),activation = 'linear', padding='same'))\n",
    "    model.add(Flatten())\n",
    "    model.add(Dense(512 ,activation = 'relu'))\n",
    "    model.add(Dense(256 ,activation = 'relu' ))\n",
    "    model.add(Dense(128 ,activation = 'relu' ))\n",
    "    model.add(Dense(3))\n",
    "    model.compile(loss=\"mean_absolute_error\", optimizer = Adam(1e-3)) \n",
    "    return model"
   ]
  },
  {
   "cell_type": "code",
   "execution_count": null,
   "metadata": {},
   "outputs": [],
   "source": [
    "model = CNN()\n",
    "from tensorflow.keras.callbacks import EarlyStopping, ModelCheckpoint\n",
    "earlystopper = EarlyStopping(patience = 80, verbose=1)\n",
    "checkpointer = ModelCheckpoint('best_CNN.h5', verbose=1, save_best_only=True)\n",
    "hist = model.fit(H,Pos , epochs=1000, validation_split=0.2  ,callbacks=[earlystopper, checkpointer],batch_size=32)\n",
    "val_loss = hist.history['val_loss']"
   ]
  },
  {
   "cell_type": "code",
   "execution_count": null,
   "metadata": {},
   "outputs": [],
   "source": [
    "def mse(a,b):\n",
    "    return np.sqrt(np.sum((a-b)**2,axis=1))"
   ]
  },
  {
   "cell_type": "code",
   "execution_count": null,
   "metadata": {},
   "outputs": [],
   "source": [
    "y2 = model.predict(H_Test)"
   ]
  },
  {
   "cell_type": "code",
   "execution_count": null,
   "metadata": {},
   "outputs": [],
   "source": [
    "rmse = np.mean(mse(y2,Pos_Test))\n",
    "print(rmse)"
   ]
  }
 ],
 "metadata": {
  "kernelspec": {
   "display_name": "Python 3",
   "language": "python",
   "name": "python3"
  },
  "language_info": {
   "codemirror_mode": {
    "name": "ipython",
    "version": 3
   },
   "file_extension": ".py",
   "mimetype": "text/x-python",
   "name": "python",
   "nbconvert_exporter": "python",
   "pygments_lexer": "ipython3",
   "version": "3.8.3"
  }
 },
 "nbformat": 4,
 "nbformat_minor": 4
}
