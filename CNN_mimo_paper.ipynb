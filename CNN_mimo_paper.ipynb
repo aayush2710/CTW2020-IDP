{
  "nbformat": 4,
  "nbformat_minor": 0,
  "metadata": {
    "colab": {
      "name": "CNN_mimo_paper.ipynb",
      "provenance": [],
      "collapsed_sections": [],
      "machine_shape": "hm",
      "include_colab_link": true
    },
    "kernelspec": {
      "name": "python3",
      "display_name": "Python 3"
    },
    "accelerator": "GPU"
  },
  "cells": [
    {
      "cell_type": "markdown",
      "metadata": {
        "id": "view-in-github",
        "colab_type": "text"
      },
      "source": [
        "<a href=\"https://colab.research.google.com/github/aayush2710/CTW2020-IDP/blob/master/CNN_mimo_paper.ipynb\" target=\"_parent\"><img src=\"https://colab.research.google.com/assets/colab-badge.svg\" alt=\"Open In Colab\"/></a>"
      ]
    },
    {
      "cell_type": "code",
      "metadata": {
        "id": "xvjd9G8Uwd_9",
        "colab_type": "code",
        "colab": {
          "base_uri": "https://localhost:8080/",
          "height": 122
        },
        "outputId": "694d71f4-9632-4a46-c08d-1c8566cdd009"
      },
      "source": [
        "from google.colab import drive\n",
        "drive.mount('/content/gdrive')\n",
        "\n"
      ],
      "execution_count": null,
      "outputs": [
        {
          "output_type": "stream",
          "text": [
            "Go to this URL in a browser: https://accounts.google.com/o/oauth2/auth?client_id=947318989803-6bn6qk8qdgf4n4g3pfee6491hc0brc4i.apps.googleusercontent.com&redirect_uri=urn%3aietf%3awg%3aoauth%3a2.0%3aoob&response_type=code&scope=email%20https%3a%2f%2fwww.googleapis.com%2fauth%2fdocs.test%20https%3a%2f%2fwww.googleapis.com%2fauth%2fdrive%20https%3a%2f%2fwww.googleapis.com%2fauth%2fdrive.photos.readonly%20https%3a%2f%2fwww.googleapis.com%2fauth%2fpeopleapi.readonly\n",
            "\n",
            "Enter your authorization code:\n",
            "··········\n",
            "Mounted at /content/gdrive\n"
          ],
          "name": "stdout"
        }
      ]
    },
    {
      "cell_type": "code",
      "metadata": {
        "id": "Dlh7ygQT6qPL",
        "colab_type": "code",
        "colab": {
          "base_uri": "https://localhost:8080/",
          "height": 119
        },
        "outputId": "1c1d61b4-c072-4aee-bc0e-efd2fec8bf00"
      },
      "source": [
        "!ls \"/content/gdrive/My Drive/CTW_2019\""
      ],
      "execution_count": null,
      "outputs": [
        {
          "output_type": "stream",
          "text": [
            "best_cnn.h5\t\t\t  data_feat.h5\n",
            "CTW2019_Dataset_h5.zip\t\t  h_Estimated_CTW_Train.h5\n",
            "CTW2019_logarithimic_mean_sqr.h5  r_Position_CTW_Train.h5\n",
            "CTW2019_mean_sqr2.h5\t\t  SNR_CTW_Train.h5\n",
            "CTW2019_mean_sqr.h5\t\t  test.out\n",
            "data2019.h5\n"
          ],
          "name": "stdout"
        }
      ]
    },
    {
      "cell_type": "code",
      "metadata": {
        "id": "gm2_r08hMTQP",
        "colab_type": "code",
        "colab": {
          "base_uri": "https://localhost:8080/",
          "height": 34
        },
        "outputId": "c63101d8-3df8-4aad-ab00-4fb9aec5fc5c"
      },
      "source": [
        "import numpy as np # linear algebra\n",
        "from keras.models import Sequential, Model, load_model\n",
        "from keras.layers import Dense, ReLU, Input, Dropout, Conv2D, AveragePooling2D, Flatten, AveragePooling1D\n",
        "from keras.optimizers import RMSprop\n",
        "import numpy as np\n",
        "import os\n",
        "import h5py\n",
        "import pandas as pd\n",
        "import time\n",
        "import matplotlib.pyplot as plt\n",
        "import tensorflow as tf"
      ],
      "execution_count": null,
      "outputs": [
        {
          "output_type": "stream",
          "text": [
            "Using TensorFlow backend.\n"
          ],
          "name": "stderr"
        }
      ]
    },
    {
      "cell_type": "code",
      "metadata": {
        "id": "wGmTrN8aWZBq",
        "colab_type": "code",
        "colab": {
          "base_uri": "https://localhost:8080/",
          "height": 34
        },
        "outputId": "2877b87a-536d-4296-c3bb-6fa4be512936"
      },
      "source": [
        "f = h5py.File('/content/gdrive/My Drive/CTW_2019/h_Estimated_CTW_Train.h5','r')\n",
        "print(H_re.shape)\n",
        "H = f['h_Estimated']"
      ],
      "execution_count": null,
      "outputs": [
        {
          "output_type": "stream",
          "text": [
            "(924, 16, 17486)\n"
          ],
          "name": "stdout"
        }
      ]
    },
    {
      "cell_type": "code",
      "metadata": {
        "id": "lqw1VAcHjlDC",
        "colab_type": "code",
        "colab": {}
      },
      "source": [
        "f = h5py.File('/content/gdrive/My Drive/CTW_2019/r_Position_CTW_Train.h5','r')\n",
        "pos = f['r_Position']\n",
        "f = h5py.File('/content/gdrive/My Drive/CTW_2019/SNR_CTW_Train.h5','r')\n",
        "SNR = f['SNR_Est']"
      ],
      "execution_count": null,
      "outputs": []
    },
    {
      "cell_type": "code",
      "metadata": {
        "id": "M86zIjRyc_6L",
        "colab_type": "code",
        "colab": {
          "base_uri": "https://localhost:8080/",
          "height": 34
        },
        "outputId": "3cf61767-a6e8-4eb8-e339-6bda39f93a4a"
      },
      "source": [
        "print(H.shape)\n",
        "H = np.array(H)\n",
        "pos = np.array(pos)\n",
        "#data = H.reshape((17486,16,924,2))\n",
        "#Y = pos.reshape((17486,3))"
      ],
      "execution_count": null,
      "outputs": [
        {
          "output_type": "stream",
          "text": [
            "(2, 924, 16, 17486)\n"
          ],
          "name": "stdout"
        }
      ]
    },
    {
      "cell_type": "code",
      "metadata": {
        "id": "-VcQnxbTi4Wx",
        "colab_type": "code",
        "colab": {
          "base_uri": "https://localhost:8080/",
          "height": 272
        },
        "outputId": "23c2b21f-da88-4891-c7e3-da187c813377"
      },
      "source": [
        "data = H.swapaxes(0,-1)\n",
        "print(data.shape)\n",
        "\n",
        "print(data[1].shape)\n",
        "print(H[1,:,:,1])"
      ],
      "execution_count": null,
      "outputs": [
        {
          "output_type": "stream",
          "text": [
            "(17486, 924, 16, 2)\n",
            "(924, 16, 2)\n",
            "[[-0.00667697  0.00677012 -0.01512622 ... -0.00781836 -0.02160719\n",
            "  -0.01629161]\n",
            " [-0.00661456  0.0078049  -0.01547601 ... -0.00319625 -0.01436212\n",
            "  -0.01815782]\n",
            " [-0.00828001  0.00788109 -0.01604509 ... -0.00448148 -0.01544323\n",
            "  -0.0178247 ]\n",
            " ...\n",
            " [-0.00720208  0.00833462 -0.01695996 ... -0.00704735 -0.01458594\n",
            "  -0.01329758]\n",
            " [-0.00649157  0.00688685 -0.01558057 ... -0.00883849 -0.01653699\n",
            "  -0.01953695]\n",
            " [-0.00863339  0.00543334 -0.01801011 ... -0.00701089 -0.01741782\n",
            "  -0.01549244]]\n"
          ],
          "name": "stdout"
        }
      ]
    },
    {
      "cell_type": "code",
      "metadata": {
        "id": "-HwU9usq4-kA",
        "colab_type": "code",
        "colab": {
          "base_uri": "https://localhost:8080/",
          "height": 51
        },
        "outputId": "8cc86548-b390-4178-ef6d-b686cb7e5ec2"
      },
      "source": [
        "pos = pos.swapaxes(0,1)\n",
        "print(pos.shape)\n",
        "print(pos[1])"
      ],
      "execution_count": null,
      "outputs": [
        {
          "output_type": "stream",
          "text": [
            "(17486, 3)\n",
            "[ 3.878  -0.4384 -0.5266]\n"
          ],
          "name": "stdout"
        }
      ]
    },
    {
      "cell_type": "code",
      "metadata": {
        "id": "ftEKpQCmL12n",
        "colab_type": "code",
        "colab": {
          "base_uri": "https://localhost:8080/",
          "height": 51
        },
        "outputId": "975f4dfc-40be-47cb-d337-42868d39cfea"
      },
      "source": [
        "\n",
        "\n",
        "from sklearn.model_selection import train_test_split\n",
        "X_train,X_test = train_test_split(data, test_size=0.1, random_state=42, shuffle=True)\n",
        "y_train,y_test = train_test_split(pos, test_size=0.1, random_state=42, shuffle=True)\n",
        "#print(H_new.shape,pos.shape)\n",
        "\n",
        "print(X_train.shape,X_test.shape)\n",
        "print(y_train.shape,y_test.shape)\n",
        "\n"
      ],
      "execution_count": null,
      "outputs": [
        {
          "output_type": "stream",
          "text": [
            "(15737, 924, 16, 2) (1749, 924, 16, 2)\n",
            "(15737, 3) (1749, 3)\n"
          ],
          "name": "stdout"
        }
      ]
    },
    {
      "cell_type": "code",
      "metadata": {
        "id": "frwEOmpqlVWn",
        "colab_type": "code",
        "colab": {}
      },
      "source": [
        "def cnn2d():\n",
        "  inp = Input(shape=(924,16,2))\n",
        "  x = Conv2D(32, (3,3), padding=\"same\",activation='relu')(inp)\n",
        "  x = AveragePooling2D(pool_size=(4,1))(x)\n",
        "  x =Dropout(0.25)(x)\n",
        "  x = Conv2D(32, (3,3), padding=\"same\",activation='relu')(x)\n",
        "  x = AveragePooling2D(pool_size=(4,1))(x)\n",
        "  x = Dropout(0.25)(x)\n",
        "\n",
        "  x = Flatten()(x)\n",
        "  x = Dense(256,activation='relu')(x)\n",
        "  x = Dropout(0.2)(x)\n",
        "  x = Dense(256,activation='relu')(x)\n",
        "  x = Dropout(0.2)(x)\n",
        "  x = Dense(256,activation='relu')(x)\n",
        "  x  = Dropout(0.2)(x)\n",
        "\n",
        "  out = Dense(3)(x)\n",
        "\n",
        "  \n",
        "  return Model(inp,out)\n"
      ],
      "execution_count": null,
      "outputs": []
    },
    {
      "cell_type": "code",
      "metadata": {
        "id": "YMsss_mAzzQC",
        "colab_type": "code",
        "colab": {
          "base_uri": "https://localhost:8080/",
          "height": 680
        },
        "outputId": "42a99323-5bb9-4119-db30-cfa7705c4eba"
      },
      "source": [
        "m1 = cnn2d()\n",
        "print(m1.summary())"
      ],
      "execution_count": null,
      "outputs": [
        {
          "output_type": "stream",
          "text": [
            "Model: \"model_1\"\n",
            "_________________________________________________________________\n",
            "Layer (type)                 Output Shape              Param #   \n",
            "=================================================================\n",
            "input_13 (InputLayer)        (None, 924, 16, 2)        0         \n",
            "_________________________________________________________________\n",
            "conv2d_48 (Conv2D)           (None, 924, 16, 32)       608       \n",
            "_________________________________________________________________\n",
            "average_pooling2d_38 (Averag (None, 231, 16, 32)       0         \n",
            "_________________________________________________________________\n",
            "dropout_76 (Dropout)         (None, 231, 16, 32)       0         \n",
            "_________________________________________________________________\n",
            "conv2d_49 (Conv2D)           (None, 231, 16, 32)       9248      \n",
            "_________________________________________________________________\n",
            "average_pooling2d_39 (Averag (None, 57, 16, 32)        0         \n",
            "_________________________________________________________________\n",
            "dropout_77 (Dropout)         (None, 57, 16, 32)        0         \n",
            "_________________________________________________________________\n",
            "flatten_16 (Flatten)         (None, 29184)             0         \n",
            "_________________________________________________________________\n",
            "dense_58 (Dense)             (None, 256)               7471360   \n",
            "_________________________________________________________________\n",
            "dropout_78 (Dropout)         (None, 256)               0         \n",
            "_________________________________________________________________\n",
            "dense_59 (Dense)             (None, 256)               65792     \n",
            "_________________________________________________________________\n",
            "dropout_79 (Dropout)         (None, 256)               0         \n",
            "_________________________________________________________________\n",
            "dense_60 (Dense)             (None, 256)               65792     \n",
            "_________________________________________________________________\n",
            "dropout_80 (Dropout)         (None, 256)               0         \n",
            "_________________________________________________________________\n",
            "dense_61 (Dense)             (None, 3)                 771       \n",
            "=================================================================\n",
            "Total params: 7,613,571\n",
            "Trainable params: 7,613,571\n",
            "Non-trainable params: 0\n",
            "_________________________________________________________________\n",
            "None\n"
          ],
          "name": "stdout"
        }
      ]
    },
    {
      "cell_type": "code",
      "metadata": {
        "id": "vhjxRJjooyTS",
        "colab_type": "code",
        "colab": {
          "base_uri": "https://localhost:8080/",
          "height": 34
        },
        "outputId": "bbc3ef99-0ace-45e7-a648-fd872265ec71"
      },
      "source": [
        "tf.config.list_physical_devices('GPU')"
      ],
      "execution_count": null,
      "outputs": [
        {
          "output_type": "execute_result",
          "data": {
            "text/plain": [
              "[PhysicalDevice(name='/physical_device:GPU:0', device_type='GPU')]"
            ]
          },
          "metadata": {
            "tags": []
          },
          "execution_count": 42
        }
      ]
    },
    {
      "cell_type": "code",
      "metadata": {
        "id": "bhyrWbDVkpyB",
        "colab_type": "code",
        "colab": {
          "base_uri": "https://localhost:8080/",
          "height": 1000
        },
        "outputId": "64f10da0-289b-484d-9b6e-bed9211757c9"
      },
      "source": [
        "# move tensors to GPU if CUDA is available\n",
        "from keras.callbacks import EarlyStopping, ModelCheckpoint\n",
        "early_stopping = EarlyStopping(monitor='val_loss', patience = 20)\n",
        "checkpointer = ModelCheckpoint('/content/gdrive/My Drive/CTW_2019/best_cnn.h5', verbose=1, save_best_only=True)\n",
        "\n",
        "opt = RMSprop(learning_rate=0.001, decay=1e-6)\n",
        "m1.compile(loss='mean_squared_error',\n",
        "              optimizer=opt,\n",
        "              )\n",
        "\n",
        "m1.fit(X_train, y_train,\n",
        "              batch_size=20,\n",
        "              epochs=1000,\n",
        "              validation_split=0.12,\n",
        "              shuffle=True, callbacks=[early_stopping, checkpointer])\n",
        "    \n",
        "'''\n",
        "if not os.path.isdir(save_dir):\n",
        "    os.makedirs(save_dir)\n",
        "model_path = os.path.join(save_dir, model_name)\n",
        "model.save(model_path)\n",
        "print('Saved trained model at %s ' % model_path)\n",
        "'''\n",
        "# Score trained model.\n",
        "scores = m1.evaluate(X_test, y_test, verbose=1)\n"
      ],
      "execution_count": null,
      "outputs": [
        {
          "output_type": "stream",
          "text": [
            "Train on 13848 samples, validate on 1889 samples\n",
            "Epoch 1/1000\n",
            "13848/13848 [==============================] - 11s 797us/step - loss: 0.3810 - val_loss: 0.3327\n",
            "\n",
            "Epoch 00001: val_loss improved from inf to 0.33268, saving model to /content/gdrive/My Drive/CTW_2019/best_cnn.h5\n",
            "Epoch 2/1000\n",
            "13848/13848 [==============================] - 11s 776us/step - loss: 0.3154 - val_loss: 0.2568\n",
            "\n",
            "Epoch 00002: val_loss improved from 0.33268 to 0.25675, saving model to /content/gdrive/My Drive/CTW_2019/best_cnn.h5\n",
            "Epoch 3/1000\n",
            "13848/13848 [==============================] - 11s 774us/step - loss: 0.2701 - val_loss: 0.2364\n",
            "\n",
            "Epoch 00003: val_loss improved from 0.25675 to 0.23638, saving model to /content/gdrive/My Drive/CTW_2019/best_cnn.h5\n",
            "Epoch 4/1000\n",
            "13848/13848 [==============================] - 11s 774us/step - loss: 0.2360 - val_loss: 0.2623\n",
            "\n",
            "Epoch 00004: val_loss did not improve from 0.23638\n",
            "Epoch 5/1000\n",
            "13848/13848 [==============================] - 11s 767us/step - loss: 0.2110 - val_loss: 0.2565\n",
            "\n",
            "Epoch 00005: val_loss did not improve from 0.23638\n",
            "Epoch 6/1000\n",
            "13848/13848 [==============================] - 11s 769us/step - loss: 0.1959 - val_loss: 0.1805\n",
            "\n",
            "Epoch 00006: val_loss improved from 0.23638 to 0.18049, saving model to /content/gdrive/My Drive/CTW_2019/best_cnn.h5\n",
            "Epoch 7/1000\n",
            "13848/13848 [==============================] - 11s 771us/step - loss: 0.1802 - val_loss: 0.1445\n",
            "\n",
            "Epoch 00007: val_loss improved from 0.18049 to 0.14450, saving model to /content/gdrive/My Drive/CTW_2019/best_cnn.h5\n",
            "Epoch 8/1000\n",
            "13848/13848 [==============================] - 11s 778us/step - loss: 0.1686 - val_loss: 0.1429\n",
            "\n",
            "Epoch 00008: val_loss improved from 0.14450 to 0.14289, saving model to /content/gdrive/My Drive/CTW_2019/best_cnn.h5\n",
            "Epoch 9/1000\n",
            "13848/13848 [==============================] - 11s 766us/step - loss: 0.1570 - val_loss: 0.1546\n",
            "\n",
            "Epoch 00009: val_loss did not improve from 0.14289\n",
            "Epoch 10/1000\n",
            "13848/13848 [==============================] - 11s 761us/step - loss: 0.1487 - val_loss: 0.1469\n",
            "\n",
            "Epoch 00010: val_loss did not improve from 0.14289\n",
            "Epoch 11/1000\n",
            "13848/13848 [==============================] - 11s 759us/step - loss: 0.1439 - val_loss: 0.1505\n",
            "\n",
            "Epoch 00011: val_loss did not improve from 0.14289\n",
            "Epoch 12/1000\n",
            "13848/13848 [==============================] - 11s 758us/step - loss: 0.1381 - val_loss: 0.1451\n",
            "\n",
            "Epoch 00012: val_loss did not improve from 0.14289\n",
            "Epoch 13/1000\n",
            "13848/13848 [==============================] - 11s 792us/step - loss: 0.1335 - val_loss: 0.1306\n",
            "\n",
            "Epoch 00013: val_loss improved from 0.14289 to 0.13057, saving model to /content/gdrive/My Drive/CTW_2019/best_cnn.h5\n",
            "Epoch 14/1000\n",
            "13848/13848 [==============================] - 11s 809us/step - loss: 0.1281 - val_loss: 0.1221\n",
            "\n",
            "Epoch 00014: val_loss improved from 0.13057 to 0.12211, saving model to /content/gdrive/My Drive/CTW_2019/best_cnn.h5\n",
            "Epoch 15/1000\n",
            "13848/13848 [==============================] - 11s 799us/step - loss: 0.1267 - val_loss: 0.1122\n",
            "\n",
            "Epoch 00015: val_loss improved from 0.12211 to 0.11221, saving model to /content/gdrive/My Drive/CTW_2019/best_cnn.h5\n",
            "Epoch 16/1000\n",
            "13848/13848 [==============================] - 11s 803us/step - loss: 0.1222 - val_loss: 0.1272\n",
            "\n",
            "Epoch 00016: val_loss did not improve from 0.11221\n",
            "Epoch 17/1000\n",
            "13848/13848 [==============================] - 11s 795us/step - loss: 0.1202 - val_loss: 0.1148\n",
            "\n",
            "Epoch 00017: val_loss did not improve from 0.11221\n",
            "Epoch 18/1000\n",
            "13848/13848 [==============================] - 11s 797us/step - loss: 0.1155 - val_loss: 0.1147\n",
            "\n",
            "Epoch 00018: val_loss did not improve from 0.11221\n",
            "Epoch 19/1000\n",
            "13848/13848 [==============================] - 11s 795us/step - loss: 0.1119 - val_loss: 0.1320\n",
            "\n",
            "Epoch 00019: val_loss did not improve from 0.11221\n",
            "Epoch 20/1000\n",
            "13848/13848 [==============================] - 11s 793us/step - loss: 0.1112 - val_loss: 0.1203\n",
            "\n",
            "Epoch 00020: val_loss did not improve from 0.11221\n",
            "Epoch 21/1000\n",
            "13848/13848 [==============================] - 11s 796us/step - loss: 0.1084 - val_loss: 0.1270\n",
            "\n",
            "Epoch 00021: val_loss did not improve from 0.11221\n",
            "Epoch 22/1000\n",
            "13848/13848 [==============================] - 11s 794us/step - loss: 0.1076 - val_loss: 0.1130\n",
            "\n",
            "Epoch 00022: val_loss did not improve from 0.11221\n",
            "Epoch 23/1000\n",
            "13848/13848 [==============================] - 11s 797us/step - loss: 0.1027 - val_loss: 0.1108\n",
            "\n",
            "Epoch 00023: val_loss improved from 0.11221 to 0.11078, saving model to /content/gdrive/My Drive/CTW_2019/best_cnn.h5\n",
            "Epoch 24/1000\n",
            "13848/13848 [==============================] - 11s 804us/step - loss: 0.1000 - val_loss: 0.1119\n",
            "\n",
            "Epoch 00024: val_loss did not improve from 0.11078\n",
            "Epoch 25/1000\n",
            "13848/13848 [==============================] - 11s 807us/step - loss: 0.0975 - val_loss: 0.1061\n",
            "\n",
            "Epoch 00025: val_loss improved from 0.11078 to 0.10612, saving model to /content/gdrive/My Drive/CTW_2019/best_cnn.h5\n",
            "Epoch 26/1000\n",
            "13848/13848 [==============================] - 11s 799us/step - loss: 0.0975 - val_loss: 0.1034\n",
            "\n",
            "Epoch 00026: val_loss improved from 0.10612 to 0.10345, saving model to /content/gdrive/My Drive/CTW_2019/best_cnn.h5\n",
            "Epoch 27/1000\n",
            "13848/13848 [==============================] - 11s 807us/step - loss: 0.0963 - val_loss: 0.1408\n",
            "\n",
            "Epoch 00027: val_loss did not improve from 0.10345\n",
            "Epoch 28/1000\n",
            "13848/13848 [==============================] - 11s 791us/step - loss: 0.0961 - val_loss: 0.1172\n",
            "\n",
            "Epoch 00028: val_loss did not improve from 0.10345\n",
            "Epoch 29/1000\n",
            "13848/13848 [==============================] - 11s 793us/step - loss: 0.0935 - val_loss: 0.1103\n",
            "\n",
            "Epoch 00029: val_loss did not improve from 0.10345\n",
            "Epoch 30/1000\n",
            "13848/13848 [==============================] - 11s 793us/step - loss: 0.0917 - val_loss: 0.1223\n",
            "\n",
            "Epoch 00030: val_loss did not improve from 0.10345\n",
            "Epoch 31/1000\n",
            "13848/13848 [==============================] - 11s 787us/step - loss: 0.0892 - val_loss: 0.1087\n",
            "\n",
            "Epoch 00031: val_loss did not improve from 0.10345\n",
            "Epoch 32/1000\n",
            "13848/13848 [==============================] - 11s 785us/step - loss: 0.0884 - val_loss: 0.1024\n",
            "\n",
            "Epoch 00032: val_loss improved from 0.10345 to 0.10242, saving model to /content/gdrive/My Drive/CTW_2019/best_cnn.h5\n",
            "Epoch 33/1000\n",
            "13848/13848 [==============================] - 11s 789us/step - loss: 0.0864 - val_loss: 0.1021\n",
            "\n",
            "Epoch 00033: val_loss improved from 0.10242 to 0.10209, saving model to /content/gdrive/My Drive/CTW_2019/best_cnn.h5\n",
            "Epoch 34/1000\n",
            "13848/13848 [==============================] - 11s 787us/step - loss: 0.0880 - val_loss: 0.1107\n",
            "\n",
            "Epoch 00034: val_loss did not improve from 0.10209\n",
            "Epoch 35/1000\n",
            "13848/13848 [==============================] - 11s 788us/step - loss: 0.0868 - val_loss: 0.1096\n",
            "\n",
            "Epoch 00035: val_loss did not improve from 0.10209\n",
            "Epoch 36/1000\n",
            "13848/13848 [==============================] - 11s 788us/step - loss: 0.0847 - val_loss: 0.1039\n",
            "\n",
            "Epoch 00036: val_loss did not improve from 0.10209\n",
            "Epoch 37/1000\n",
            "13848/13848 [==============================] - 11s 783us/step - loss: 0.0823 - val_loss: 0.1149\n",
            "\n",
            "Epoch 00037: val_loss did not improve from 0.10209\n",
            "Epoch 38/1000\n",
            "13848/13848 [==============================] - 11s 795us/step - loss: 0.0822 - val_loss: 0.1091\n",
            "\n",
            "Epoch 00038: val_loss did not improve from 0.10209\n",
            "Epoch 39/1000\n",
            "13848/13848 [==============================] - 11s 797us/step - loss: 0.0821 - val_loss: 0.1051\n",
            "\n",
            "Epoch 00039: val_loss did not improve from 0.10209\n",
            "Epoch 40/1000\n",
            "13848/13848 [==============================] - 11s 782us/step - loss: 0.0787 - val_loss: 0.1072\n",
            "\n",
            "Epoch 00040: val_loss did not improve from 0.10209\n",
            "Epoch 41/1000\n",
            "13848/13848 [==============================] - 12s 836us/step - loss: 0.0814 - val_loss: 0.0995\n",
            "\n",
            "Epoch 00041: val_loss improved from 0.10209 to 0.09945, saving model to /content/gdrive/My Drive/CTW_2019/best_cnn.h5\n",
            "Epoch 42/1000\n",
            "13848/13848 [==============================] - 11s 798us/step - loss: 0.0763 - val_loss: 0.0953\n",
            "\n",
            "Epoch 00042: val_loss improved from 0.09945 to 0.09533, saving model to /content/gdrive/My Drive/CTW_2019/best_cnn.h5\n",
            "Epoch 43/1000\n",
            "13848/13848 [==============================] - 11s 806us/step - loss: 0.0771 - val_loss: 0.0965\n",
            "\n",
            "Epoch 00043: val_loss did not improve from 0.09533\n",
            "Epoch 44/1000\n",
            "13848/13848 [==============================] - 11s 810us/step - loss: 0.0771 - val_loss: 0.0965\n",
            "\n",
            "Epoch 00044: val_loss did not improve from 0.09533\n",
            "Epoch 45/1000\n",
            "13848/13848 [==============================] - 11s 807us/step - loss: 0.0775 - val_loss: 0.0955\n",
            "\n",
            "Epoch 00045: val_loss did not improve from 0.09533\n",
            "Epoch 46/1000\n",
            "13848/13848 [==============================] - 11s 810us/step - loss: 0.0753 - val_loss: 0.0969\n",
            "\n",
            "Epoch 00046: val_loss did not improve from 0.09533\n",
            "Epoch 47/1000\n",
            "13848/13848 [==============================] - 11s 782us/step - loss: 0.0763 - val_loss: 0.1021\n",
            "\n",
            "Epoch 00047: val_loss did not improve from 0.09533\n",
            "Epoch 48/1000\n",
            "13848/13848 [==============================] - 11s 776us/step - loss: 0.0742 - val_loss: 0.0914\n",
            "\n",
            "Epoch 00048: val_loss improved from 0.09533 to 0.09143, saving model to /content/gdrive/My Drive/CTW_2019/best_cnn.h5\n",
            "Epoch 49/1000\n",
            "13848/13848 [==============================] - 11s 786us/step - loss: 0.0767 - val_loss: 0.1042\n",
            "\n",
            "Epoch 00049: val_loss did not improve from 0.09143\n",
            "Epoch 50/1000\n",
            "13848/13848 [==============================] - 11s 788us/step - loss: 0.0725 - val_loss: 0.1017\n",
            "\n",
            "Epoch 00050: val_loss did not improve from 0.09143\n",
            "Epoch 51/1000\n",
            "13848/13848 [==============================] - 11s 786us/step - loss: 0.0746 - val_loss: 0.0968\n",
            "\n",
            "Epoch 00051: val_loss did not improve from 0.09143\n",
            "Epoch 52/1000\n",
            "13848/13848 [==============================] - 11s 793us/step - loss: 0.0714 - val_loss: 0.0886\n",
            "\n",
            "Epoch 00052: val_loss improved from 0.09143 to 0.08860, saving model to /content/gdrive/My Drive/CTW_2019/best_cnn.h5\n",
            "Epoch 53/1000\n",
            "13848/13848 [==============================] - 11s 786us/step - loss: 0.0725 - val_loss: 0.0941\n",
            "\n",
            "Epoch 00053: val_loss did not improve from 0.08860\n",
            "Epoch 54/1000\n",
            "13848/13848 [==============================] - 11s 779us/step - loss: 0.0715 - val_loss: 0.0986\n",
            "\n",
            "Epoch 00054: val_loss did not improve from 0.08860\n",
            "Epoch 55/1000\n",
            "13848/13848 [==============================] - 11s 782us/step - loss: 0.0710 - val_loss: 0.0942\n",
            "\n",
            "Epoch 00055: val_loss did not improve from 0.08860\n",
            "Epoch 56/1000\n",
            "13848/13848 [==============================] - 11s 807us/step - loss: 0.0705 - val_loss: 0.0958\n",
            "\n",
            "Epoch 00056: val_loss did not improve from 0.08860\n",
            "Epoch 57/1000\n",
            "13848/13848 [==============================] - 11s 803us/step - loss: 0.0705 - val_loss: 0.0895\n",
            "\n",
            "Epoch 00057: val_loss did not improve from 0.08860\n",
            "Epoch 58/1000\n",
            "13848/13848 [==============================] - 11s 826us/step - loss: 0.0710 - val_loss: 0.0955\n",
            "\n",
            "Epoch 00058: val_loss did not improve from 0.08860\n",
            "Epoch 59/1000\n",
            "13848/13848 [==============================] - 11s 809us/step - loss: 0.0675 - val_loss: 0.0873\n",
            "\n",
            "Epoch 00059: val_loss improved from 0.08860 to 0.08732, saving model to /content/gdrive/My Drive/CTW_2019/best_cnn.h5\n",
            "Epoch 60/1000\n",
            "13848/13848 [==============================] - 11s 830us/step - loss: 0.0704 - val_loss: 0.0893\n",
            "\n",
            "Epoch 00060: val_loss did not improve from 0.08732\n",
            "Epoch 61/1000\n",
            "13848/13848 [==============================] - 11s 803us/step - loss: 0.0693 - val_loss: 0.0963\n",
            "\n",
            "Epoch 00061: val_loss did not improve from 0.08732\n",
            "Epoch 62/1000\n",
            "13848/13848 [==============================] - 11s 811us/step - loss: 0.0673 - val_loss: 0.0994\n",
            "\n",
            "Epoch 00062: val_loss did not improve from 0.08732\n",
            "Epoch 63/1000\n",
            "13848/13848 [==============================] - 11s 794us/step - loss: 0.0659 - val_loss: 0.1061\n",
            "\n",
            "Epoch 00063: val_loss did not improve from 0.08732\n",
            "Epoch 64/1000\n",
            "13848/13848 [==============================] - 11s 800us/step - loss: 0.0679 - val_loss: 0.0856\n",
            "\n",
            "Epoch 00064: val_loss improved from 0.08732 to 0.08557, saving model to /content/gdrive/My Drive/CTW_2019/best_cnn.h5\n",
            "Epoch 65/1000\n",
            "13848/13848 [==============================] - 11s 807us/step - loss: 0.0653 - val_loss: 0.0924\n",
            "\n",
            "Epoch 00065: val_loss did not improve from 0.08557\n",
            "Epoch 66/1000\n",
            "13848/13848 [==============================] - 11s 797us/step - loss: 0.0658 - val_loss: 0.0914\n",
            "\n",
            "Epoch 00066: val_loss did not improve from 0.08557\n",
            "Epoch 67/1000\n",
            "13848/13848 [==============================] - 11s 793us/step - loss: 0.0655 - val_loss: 0.1004\n",
            "\n",
            "Epoch 00067: val_loss did not improve from 0.08557\n",
            "Epoch 68/1000\n",
            "13848/13848 [==============================] - 11s 802us/step - loss: 0.0646 - val_loss: 0.0955\n",
            "\n",
            "Epoch 00068: val_loss did not improve from 0.08557\n",
            "Epoch 69/1000\n",
            "13848/13848 [==============================] - 11s 817us/step - loss: 0.0645 - val_loss: 0.1071\n",
            "\n",
            "Epoch 00069: val_loss did not improve from 0.08557\n",
            "Epoch 70/1000\n",
            "13848/13848 [==============================] - 11s 789us/step - loss: 0.0641 - val_loss: 0.0887\n",
            "\n",
            "Epoch 00070: val_loss did not improve from 0.08557\n",
            "Epoch 71/1000\n",
            "13848/13848 [==============================] - 11s 789us/step - loss: 0.0641 - val_loss: 0.1001\n",
            "\n",
            "Epoch 00071: val_loss did not improve from 0.08557\n",
            "Epoch 72/1000\n",
            "13848/13848 [==============================] - 11s 794us/step - loss: 0.0648 - val_loss: 0.0905\n",
            "\n",
            "Epoch 00072: val_loss did not improve from 0.08557\n",
            "Epoch 73/1000\n",
            "13848/13848 [==============================] - 11s 793us/step - loss: 0.0634 - val_loss: 0.0905\n",
            "\n",
            "Epoch 00073: val_loss did not improve from 0.08557\n",
            "Epoch 74/1000\n",
            "13848/13848 [==============================] - 11s 792us/step - loss: 0.0635 - val_loss: 0.1088\n",
            "\n",
            "Epoch 00074: val_loss did not improve from 0.08557\n",
            "Epoch 75/1000\n",
            "13848/13848 [==============================] - 11s 797us/step - loss: 0.0625 - val_loss: 0.0905\n",
            "\n",
            "Epoch 00075: val_loss did not improve from 0.08557\n",
            "Epoch 76/1000\n",
            "13848/13848 [==============================] - 11s 806us/step - loss: 0.0626 - val_loss: 0.0861\n",
            "\n",
            "Epoch 00076: val_loss did not improve from 0.08557\n",
            "Epoch 77/1000\n",
            "13848/13848 [==============================] - 11s 798us/step - loss: 0.0619 - val_loss: 0.0840\n",
            "\n",
            "Epoch 00077: val_loss improved from 0.08557 to 0.08403, saving model to /content/gdrive/My Drive/CTW_2019/best_cnn.h5\n",
            "Epoch 78/1000\n",
            "13848/13848 [==============================] - 11s 801us/step - loss: 0.0633 - val_loss: 0.0851\n",
            "\n",
            "Epoch 00078: val_loss did not improve from 0.08403\n",
            "Epoch 79/1000\n",
            "13848/13848 [==============================] - 11s 789us/step - loss: 0.0612 - val_loss: 0.0893\n",
            "\n",
            "Epoch 00079: val_loss did not improve from 0.08403\n",
            "Epoch 80/1000\n",
            "13848/13848 [==============================] - 11s 804us/step - loss: 0.0635 - val_loss: 0.0919\n",
            "\n",
            "Epoch 00080: val_loss did not improve from 0.08403\n",
            "Epoch 81/1000\n",
            "13848/13848 [==============================] - 11s 795us/step - loss: 0.0616 - val_loss: 0.0961\n",
            "\n",
            "Epoch 00081: val_loss did not improve from 0.08403\n",
            "Epoch 82/1000\n",
            "13848/13848 [==============================] - 11s 796us/step - loss: 0.0627 - val_loss: 0.0884\n",
            "\n",
            "Epoch 00082: val_loss did not improve from 0.08403\n",
            "Epoch 83/1000\n",
            "13848/13848 [==============================] - 11s 800us/step - loss: 0.0618 - val_loss: 0.0949\n",
            "\n",
            "Epoch 00083: val_loss did not improve from 0.08403\n",
            "Epoch 84/1000\n",
            "13848/13848 [==============================] - 11s 801us/step - loss: 0.0622 - val_loss: 0.0847\n",
            "\n",
            "Epoch 00084: val_loss did not improve from 0.08403\n",
            "Epoch 85/1000\n",
            "13848/13848 [==============================] - 11s 796us/step - loss: 0.0613 - val_loss: 0.0904\n",
            "\n",
            "Epoch 00085: val_loss did not improve from 0.08403\n",
            "Epoch 86/1000\n",
            "13848/13848 [==============================] - 11s 789us/step - loss: 0.0604 - val_loss: 0.0859\n",
            "\n",
            "Epoch 00086: val_loss did not improve from 0.08403\n",
            "Epoch 87/1000\n",
            "13848/13848 [==============================] - 11s 808us/step - loss: 0.0597 - val_loss: 0.0958\n",
            "\n",
            "Epoch 00087: val_loss did not improve from 0.08403\n",
            "Epoch 88/1000\n",
            "13848/13848 [==============================] - 12s 831us/step - loss: 0.0600 - val_loss: 0.0992\n",
            "\n",
            "Epoch 00088: val_loss did not improve from 0.08403\n",
            "Epoch 89/1000\n",
            "13848/13848 [==============================] - 11s 810us/step - loss: 0.0602 - val_loss: 0.0910\n",
            "\n",
            "Epoch 00089: val_loss did not improve from 0.08403\n",
            "Epoch 90/1000\n",
            "13848/13848 [==============================] - 11s 825us/step - loss: 0.0614 - val_loss: 0.1021\n",
            "\n",
            "Epoch 00090: val_loss did not improve from 0.08403\n",
            "Epoch 91/1000\n",
            "13848/13848 [==============================] - 11s 816us/step - loss: 0.0620 - val_loss: 0.0947\n",
            "\n",
            "Epoch 00091: val_loss did not improve from 0.08403\n",
            "Epoch 92/1000\n",
            "13848/13848 [==============================] - 11s 808us/step - loss: 0.0610 - val_loss: 0.0972\n",
            "\n",
            "Epoch 00092: val_loss did not improve from 0.08403\n",
            "Epoch 93/1000\n",
            "13848/13848 [==============================] - 11s 816us/step - loss: 0.0597 - val_loss: 0.0838\n",
            "\n",
            "Epoch 00093: val_loss improved from 0.08403 to 0.08378, saving model to /content/gdrive/My Drive/CTW_2019/best_cnn.h5\n",
            "Epoch 94/1000\n",
            "13848/13848 [==============================] - 11s 823us/step - loss: 0.0630 - val_loss: 0.0984\n",
            "\n",
            "Epoch 00094: val_loss did not improve from 0.08378\n",
            "Epoch 95/1000\n",
            "13848/13848 [==============================] - 11s 811us/step - loss: 0.0585 - val_loss: 0.0993\n",
            "\n",
            "Epoch 00095: val_loss did not improve from 0.08378\n",
            "Epoch 96/1000\n",
            "13848/13848 [==============================] - 12s 846us/step - loss: 0.0586 - val_loss: 0.0858\n",
            "\n",
            "Epoch 00096: val_loss did not improve from 0.08378\n",
            "Epoch 97/1000\n",
            "13848/13848 [==============================] - 11s 819us/step - loss: 0.0605 - val_loss: 0.0907\n",
            "\n",
            "Epoch 00097: val_loss did not improve from 0.08378\n",
            "Epoch 98/1000\n",
            "13848/13848 [==============================] - 11s 803us/step - loss: 0.0571 - val_loss: 0.0934\n",
            "\n",
            "Epoch 00098: val_loss did not improve from 0.08378\n",
            "Epoch 99/1000\n",
            "13848/13848 [==============================] - 11s 791us/step - loss: 0.0593 - val_loss: 0.0992\n",
            "\n",
            "Epoch 00099: val_loss did not improve from 0.08378\n",
            "Epoch 100/1000\n",
            "13848/13848 [==============================] - 11s 804us/step - loss: 0.0598 - val_loss: 0.0862\n",
            "\n",
            "Epoch 00100: val_loss did not improve from 0.08378\n",
            "Epoch 101/1000\n",
            "13848/13848 [==============================] - 11s 798us/step - loss: 0.0568 - val_loss: 0.0956\n",
            "\n",
            "Epoch 00101: val_loss did not improve from 0.08378\n",
            "Epoch 102/1000\n",
            "13848/13848 [==============================] - 11s 802us/step - loss: 0.0575 - val_loss: 0.0948\n",
            "\n",
            "Epoch 00102: val_loss did not improve from 0.08378\n",
            "Epoch 103/1000\n",
            "13848/13848 [==============================] - 11s 798us/step - loss: 0.0581 - val_loss: 0.0901\n",
            "\n",
            "Epoch 00103: val_loss did not improve from 0.08378\n",
            "Epoch 104/1000\n",
            "13848/13848 [==============================] - 11s 798us/step - loss: 0.0574 - val_loss: 0.0943\n",
            "\n",
            "Epoch 00104: val_loss did not improve from 0.08378\n",
            "Epoch 105/1000\n",
            "13848/13848 [==============================] - 11s 800us/step - loss: 0.0588 - val_loss: 0.0925\n",
            "\n",
            "Epoch 00105: val_loss did not improve from 0.08378\n",
            "Epoch 106/1000\n",
            "13848/13848 [==============================] - 11s 804us/step - loss: 0.0568 - val_loss: 0.0938\n",
            "\n",
            "Epoch 00106: val_loss did not improve from 0.08378\n",
            "Epoch 107/1000\n",
            "13848/13848 [==============================] - 11s 798us/step - loss: 0.0579 - val_loss: 0.0855\n",
            "\n",
            "Epoch 00107: val_loss did not improve from 0.08378\n",
            "Epoch 108/1000\n",
            "13848/13848 [==============================] - 11s 803us/step - loss: 0.0589 - val_loss: 0.0893\n",
            "\n",
            "Epoch 00108: val_loss did not improve from 0.08378\n",
            "Epoch 109/1000\n",
            "13848/13848 [==============================] - 11s 803us/step - loss: 0.0570 - val_loss: 0.0890\n",
            "\n",
            "Epoch 00109: val_loss did not improve from 0.08378\n",
            "Epoch 110/1000\n",
            "13848/13848 [==============================] - 11s 801us/step - loss: 0.0579 - val_loss: 0.0939\n",
            "\n",
            "Epoch 00110: val_loss did not improve from 0.08378\n",
            "Epoch 111/1000\n",
            "13848/13848 [==============================] - 11s 801us/step - loss: 0.0567 - val_loss: 0.0819\n",
            "\n",
            "Epoch 00111: val_loss improved from 0.08378 to 0.08189, saving model to /content/gdrive/My Drive/CTW_2019/best_cnn.h5\n",
            "Epoch 112/1000\n",
            "13848/13848 [==============================] - 11s 804us/step - loss: 0.0572 - val_loss: 0.1020\n",
            "\n",
            "Epoch 00112: val_loss did not improve from 0.08189\n",
            "Epoch 113/1000\n",
            "13848/13848 [==============================] - 11s 794us/step - loss: 0.0561 - val_loss: 0.0951\n",
            "\n",
            "Epoch 00113: val_loss did not improve from 0.08189\n",
            "Epoch 114/1000\n",
            "13848/13848 [==============================] - 11s 802us/step - loss: 0.0566 - val_loss: 0.0929\n",
            "\n",
            "Epoch 00114: val_loss did not improve from 0.08189\n",
            "Epoch 115/1000\n",
            "13848/13848 [==============================] - 11s 799us/step - loss: 0.0541 - val_loss: 0.0878\n",
            "\n",
            "Epoch 00115: val_loss did not improve from 0.08189\n",
            "Epoch 116/1000\n",
            "13848/13848 [==============================] - 11s 803us/step - loss: 0.0556 - val_loss: 0.0872\n",
            "\n",
            "Epoch 00116: val_loss did not improve from 0.08189\n",
            "Epoch 117/1000\n",
            "13848/13848 [==============================] - 11s 792us/step - loss: 0.0548 - val_loss: 0.0879\n",
            "\n",
            "Epoch 00117: val_loss did not improve from 0.08189\n",
            "Epoch 118/1000\n",
            "13848/13848 [==============================] - 11s 791us/step - loss: 0.0564 - val_loss: 0.0893\n",
            "\n",
            "Epoch 00118: val_loss did not improve from 0.08189\n",
            "Epoch 119/1000\n",
            "13848/13848 [==============================] - 11s 790us/step - loss: 0.0555 - val_loss: 0.0872\n",
            "\n",
            "Epoch 00119: val_loss did not improve from 0.08189\n",
            "Epoch 120/1000\n",
            "13848/13848 [==============================] - 11s 794us/step - loss: 0.0556 - val_loss: 0.0795\n",
            "\n",
            "Epoch 00120: val_loss improved from 0.08189 to 0.07950, saving model to /content/gdrive/My Drive/CTW_2019/best_cnn.h5\n",
            "Epoch 121/1000\n",
            "13848/13848 [==============================] - 11s 802us/step - loss: 0.0562 - val_loss: 0.0879\n",
            "\n",
            "Epoch 00121: val_loss did not improve from 0.07950\n",
            "Epoch 122/1000\n",
            "13848/13848 [==============================] - 11s 794us/step - loss: 0.0550 - val_loss: 0.0946\n",
            "\n",
            "Epoch 00122: val_loss did not improve from 0.07950\n",
            "Epoch 123/1000\n",
            "13848/13848 [==============================] - 11s 810us/step - loss: 0.0548 - val_loss: 0.0885\n",
            "\n",
            "Epoch 00123: val_loss did not improve from 0.07950\n",
            "Epoch 124/1000\n",
            "13848/13848 [==============================] - 11s 825us/step - loss: 0.0559 - val_loss: 0.0870\n",
            "\n",
            "Epoch 00124: val_loss did not improve from 0.07950\n",
            "Epoch 125/1000\n",
            "13848/13848 [==============================] - 11s 805us/step - loss: 0.0560 - val_loss: 0.0877\n",
            "\n",
            "Epoch 00125: val_loss did not improve from 0.07950\n",
            "Epoch 126/1000\n",
            "13848/13848 [==============================] - 11s 803us/step - loss: 0.0541 - val_loss: 0.0832\n",
            "\n",
            "Epoch 00126: val_loss did not improve from 0.07950\n",
            "Epoch 127/1000\n",
            "13848/13848 [==============================] - 11s 797us/step - loss: 0.0561 - val_loss: 0.1069\n",
            "\n",
            "Epoch 00127: val_loss did not improve from 0.07950\n",
            "Epoch 128/1000\n",
            "13848/13848 [==============================] - 11s 805us/step - loss: 0.0566 - val_loss: 0.0858\n",
            "\n",
            "Epoch 00128: val_loss did not improve from 0.07950\n",
            "Epoch 129/1000\n",
            "13848/13848 [==============================] - 11s 798us/step - loss: 0.0531 - val_loss: 0.0849\n",
            "\n",
            "Epoch 00129: val_loss did not improve from 0.07950\n",
            "Epoch 130/1000\n",
            "13848/13848 [==============================] - 11s 797us/step - loss: 0.0543 - val_loss: 0.0936\n",
            "\n",
            "Epoch 00130: val_loss did not improve from 0.07950\n",
            "Epoch 131/1000\n",
            "13848/13848 [==============================] - 11s 795us/step - loss: 0.0537 - val_loss: 0.0837\n",
            "\n",
            "Epoch 00131: val_loss did not improve from 0.07950\n",
            "Epoch 132/1000\n",
            "13848/13848 [==============================] - 11s 794us/step - loss: 0.0548 - val_loss: 0.0971\n",
            "\n",
            "Epoch 00132: val_loss did not improve from 0.07950\n",
            "Epoch 133/1000\n",
            "13848/13848 [==============================] - 11s 794us/step - loss: 0.0555 - val_loss: 0.0843\n",
            "\n",
            "Epoch 00133: val_loss did not improve from 0.07950\n",
            "Epoch 134/1000\n",
            "13848/13848 [==============================] - 11s 800us/step - loss: 0.0553 - val_loss: 0.0906\n",
            "\n",
            "Epoch 00134: val_loss did not improve from 0.07950\n",
            "Epoch 135/1000\n",
            "13848/13848 [==============================] - 11s 798us/step - loss: 0.0525 - val_loss: 0.0942\n",
            "\n",
            "Epoch 00135: val_loss did not improve from 0.07950\n",
            "Epoch 136/1000\n",
            "13848/13848 [==============================] - 11s 797us/step - loss: 0.0540 - val_loss: 0.0897\n",
            "\n",
            "Epoch 00136: val_loss did not improve from 0.07950\n",
            "Epoch 137/1000\n",
            "13848/13848 [==============================] - 11s 793us/step - loss: 0.0543 - val_loss: 0.0909\n",
            "\n",
            "Epoch 00137: val_loss did not improve from 0.07950\n",
            "Epoch 138/1000\n",
            "13848/13848 [==============================] - 11s 802us/step - loss: 0.0550 - val_loss: 0.0882\n",
            "\n",
            "Epoch 00138: val_loss did not improve from 0.07950\n",
            "Epoch 139/1000\n",
            "13848/13848 [==============================] - 11s 790us/step - loss: 0.0533 - val_loss: 0.0936\n",
            "\n",
            "Epoch 00139: val_loss did not improve from 0.07950\n",
            "Epoch 140/1000\n",
            "13848/13848 [==============================] - 11s 795us/step - loss: 0.0538 - val_loss: 0.0885\n",
            "\n",
            "Epoch 00140: val_loss did not improve from 0.07950\n",
            "1749/1749 [==============================] - 1s 355us/step\n"
          ],
          "name": "stdout"
        },
        {
          "output_type": "error",
          "ename": "TypeError",
          "evalue": "ignored",
          "traceback": [
            "\u001b[0;31m---------------------------------------------------------------------------\u001b[0m",
            "\u001b[0;31mTypeError\u001b[0m                                 Traceback (most recent call last)",
            "\u001b[0;32m<ipython-input-104-aa5009bc3278>\u001b[0m in \u001b[0;36m<module>\u001b[0;34m()\u001b[0m\n\u001b[1;32m     23\u001b[0m \u001b[0;31m# Score trained model.\u001b[0m\u001b[0;34m\u001b[0m\u001b[0;34m\u001b[0m\u001b[0;34m\u001b[0m\u001b[0m\n\u001b[1;32m     24\u001b[0m \u001b[0mscores\u001b[0m \u001b[0;34m=\u001b[0m \u001b[0mm1\u001b[0m\u001b[0;34m.\u001b[0m\u001b[0mevaluate\u001b[0m\u001b[0;34m(\u001b[0m\u001b[0mX_test\u001b[0m\u001b[0;34m,\u001b[0m \u001b[0my_test\u001b[0m\u001b[0;34m,\u001b[0m \u001b[0mverbose\u001b[0m\u001b[0;34m=\u001b[0m\u001b[0;36m1\u001b[0m\u001b[0;34m)\u001b[0m\u001b[0;34m\u001b[0m\u001b[0;34m\u001b[0m\u001b[0m\n\u001b[0;32m---> 25\u001b[0;31m \u001b[0mprint\u001b[0m\u001b[0;34m(\u001b[0m\u001b[0;34m'Test loss:'\u001b[0m\u001b[0;34m,\u001b[0m \u001b[0mscores\u001b[0m\u001b[0;34m[\u001b[0m\u001b[0;36m0\u001b[0m\u001b[0;34m]\u001b[0m\u001b[0;34m)\u001b[0m\u001b[0;34m\u001b[0m\u001b[0;34m\u001b[0m\u001b[0m\n\u001b[0m\u001b[1;32m     26\u001b[0m \u001b[0mprint\u001b[0m\u001b[0;34m(\u001b[0m\u001b[0;34m'Test accuracy:'\u001b[0m\u001b[0;34m,\u001b[0m \u001b[0mscores\u001b[0m\u001b[0;34m[\u001b[0m\u001b[0;36m1\u001b[0m\u001b[0;34m]\u001b[0m\u001b[0;34m)\u001b[0m\u001b[0;34m\u001b[0m\u001b[0;34m\u001b[0m\u001b[0m\n",
            "\u001b[0;31mTypeError\u001b[0m: 'float' object is not subscriptable"
          ]
        }
      ]
    },
    {
      "cell_type": "code",
      "metadata": {
        "id": "sXOCudH8C-I4",
        "colab_type": "code",
        "colab": {}
      },
      "source": [
        "\n",
        "def rmse(p1, p2):\n",
        "  return np.sqrt(np.sum((p1-p2)**2, axis = 1))"
      ],
      "execution_count": null,
      "outputs": []
    },
    {
      "cell_type": "code",
      "metadata": {
        "id": "ifnA3VhVEaPb",
        "colab_type": "code",
        "colab": {
          "base_uri": "https://localhost:8080/",
          "height": 887
        },
        "outputId": "31f4e293-5d0a-4532-8c7f-0f8621fedaa0"
      },
      "source": [
        "m2 = load_model('/content/gdrive/My Drive/CTW_2019/best_cnn.h5')\n",
        "tt = m2.predict(X_test)\n",
        "print(tt)\n",
        "print(y_test)\n",
        "gg  = (rmse(tt,y_test))\n",
        "\n",
        "\n",
        "plt.hist(gg, bins=20)\n",
        "plt.show()\n",
        "plt.hist(np.log(gg), bins=20)"
      ],
      "execution_count": null,
      "outputs": [
        {
          "output_type": "stream",
          "text": [
            "[[ 4.911024    1.5168836  -0.51397026]\n",
            " [ 4.3243456   0.34368864 -0.5178447 ]\n",
            " [ 4.5668516   1.0344276  -0.5170463 ]\n",
            " ...\n",
            " [ 3.8136008   1.2381073  -0.5210979 ]\n",
            " [ 5.3589334   1.8767588  -0.517688  ]\n",
            " [ 4.455924    1.4285104  -0.5176318 ]]\n",
            "[[ 5.1697  1.5755 -0.5268]\n",
            " [ 5.0422  0.576  -0.5254]\n",
            " [ 4.0611  0.9462 -0.5268]\n",
            " ...\n",
            " [ 3.6799  1.0983 -0.5251]\n",
            " [ 5.6319  1.5365 -0.5226]\n",
            " [ 4.0911  0.4399 -0.5252]]\n"
          ],
          "name": "stdout"
        },
        {
          "output_type": "display_data",
          "data": {
            "image/png": "[encoded data removed]",
            "text/plain": [
              "<Figure size 432x288 with 1 Axes>"
            ]
          },
          "metadata": {
            "tags": [],
            "needs_background": "light"
          }
        },
        {
          "output_type": "execute_result",
          "data": {
            "text/plain": [
              "(array([  1.,   6.,   7.,   8.,   7.,  27.,  28.,  51.,  91., 119., 196.,\n",
              "        213., 265., 256., 216., 134.,  70.,  32.,  14.,   8.]),\n",
              " array([-4.73741372, -4.4510891 , -4.16476447, -3.87843985, -3.59211522,\n",
              "        -3.3057906 , -3.01946598, -2.73314135, -2.44681673, -2.1604921 ,\n",
              "        -1.87416748, -1.58784285, -1.30151823, -1.0151936 , -0.72886898,\n",
              "        -0.44254435, -0.15621973,  0.13010489,  0.41642952,  0.70275414,\n",
              "         0.98907877]),\n",
              " <a list of 20 Patch objects>)"
            ]
          },
          "metadata": {
            "tags": []
          },
          "execution_count": 19
        },
        {
          "output_type": "display_data",
          "data": {
            "image/png": "[encoded data removed]",
            "text/plain": [
              "<Figure size 432x288 with 1 Axes>"
            ]
          },
          "metadata": {
            "tags": [],
            "needs_background": "light"
          }
        }
      ]
    },
    {
      "cell_type": "code",
      "metadata": {
        "id": "6BEQQT9sM_wA",
        "colab_type": "code",
        "colab": {
          "base_uri": "https://localhost:8080/",
          "height": 34
        },
        "outputId": "81a2207d-5482-4d52-e6fe-df0466bd65df"
      },
      "source": [
        "ttt = m2.predict(X_test)\n",
        "\n",
        "dd = rmse(ttt, y_test)\n",
        "\n",
        "print(np.mean(dd))"
      ],
      "execution_count": null,
      "outputs": [
        {
          "output_type": "stream",
          "text": [
            "0.388499792952066\n"
          ],
          "name": "stdout"
        }
      ]
    }
  ]
}