{
 "cells": [
  {
   "cell_type": "code",
   "execution_count": null,
   "metadata": {},
   "outputs": [],
   "source": [
    "LabelledPath = \" \" #Please provide path to labelled dataset"
   ]
  },
  {
   "cell_type": "code",
   "execution_count": null,
   "metadata": {},
   "outputs": [],
   "source": [
    "import numpy as np\n",
    "import h5py"
   ]
  },
  {
   "cell_type": "markdown",
   "metadata": {},
   "source": [
    "Loading labelled and Unlabelled datasets"
   ]
  },
  {
   "cell_type": "code",
   "execution_count": null,
   "metadata": {},
   "outputs": [],
   "source": [
    "f = h5py.File(\"LabelledPath\" , \"r\")\n",
    "H = f[\"H_Est\"][:].transpose(0,3,1,2)\n",
    "Pos = f[\"Pos\"][:]\n",
    "f.close()"
   ]
  },
  {
   "cell_type": "markdown",
   "metadata": {},
   "source": [
    "Creating a custom test set"
   ]
  },
  {
   "cell_type": "code",
   "execution_count": null,
   "metadata": {},
   "outputs": [],
   "source": [
    "from sklearn.model_selection import train_test_split\n",
    "H_Train, H_Test , Pos_Train , Pos_Test = train_test_split(H,Pos,test_size=0.05, random_state=42)"
   ]
  },
  {
   "cell_type": "code",
   "execution_count": null,
   "metadata": {},
   "outputs": [],
   "source": [
    "import torch\n",
    "import torch.nn as nn\n",
    "import torch.nn.functional as F"
   ]
  },
  {
   "cell_type": "markdown",
   "metadata": {},
   "source": [
    "Validation set"
   ]
  },
  {
   "cell_type": "code",
   "execution_count": null,
   "metadata": {},
   "outputs": [],
   "source": [
    "H_Train, H_Val , Pos_Train , Pos_Val = train_test_split(H_Train,Pos_Train,test_size=0.1, random_state=99)"
   ]
  },
  {
   "cell_type": "code",
   "execution_count": null,
   "metadata": {},
   "outputs": [],
   "source": [
    "H_Train = torch.tensor(H_Train,dtype=torch.float)\n",
    "Pos_Train = torch.tensor(Pos_Train,dtype=torch.float)\n",
    "H_Val = torch.tensor(H_Val,dtype=torch.float)\n",
    "Pos_Val = torch.tensor(Pos_Val,dtype=torch.float)"
   ]
  },
  {
   "cell_type": "code",
   "execution_count": null,
   "metadata": {},
   "outputs": [],
   "source": [
    "class CNN(nn.Module):\n",
    "    ''' Deep Convolutional NN for position Estimation '''\n",
    "    def __init__(self):\n",
    "        super(CNN, self).__init__()\n",
    "        \n",
    "        '''Convolutional Layers'''\n",
    "        self.cnn = nn.Sequential(\n",
    "            nn.Conv2d(in_channels=5, out_channels=64, kernel_size=5, padding=2) ,\n",
    "            nn.ReLU(),\n",
    "            nn.AvgPool2d((1,4) ),\n",
    "            nn.Conv2d(in_channels=64, out_channels=32, kernel_size=3, padding=1) ,\n",
    "            nn.ReLU(),\n",
    "            nn.AvgPool2d((1,4) )\n",
    "        )\n",
    "        \n",
    "        ''' Fully Connected Layers'''\n",
    "        self.fc = nn.Sequential(nn.Linear(57*56*32,512),\n",
    "                                     nn.ReLU(),\n",
    "                                     nn.Linear(512,256),\n",
    "                                     nn.ReLU(),\n",
    "                                     nn.Linear(256,128),\n",
    "                                     nn.ReLU(),\n",
    "                                     nn.Linear(128,3))\n",
    "\n",
    "    def forward(self, H):\n",
    "        out = self.fc(self.cnn(H).reshape(-1,57*56*32))\n",
    "        return out"
   ]
  },
  {
   "cell_type": "code",
   "execution_count": null,
   "metadata": {},
   "outputs": [],
   "source": [
    "device = torch.device(\"cuda:0\" if (torch.cuda.is_available()) else \"cpu\")\n",
    "model = CNN().to(device)"
   ]
  },
  {
   "cell_type": "code",
   "execution_count": null,
   "metadata": {},
   "outputs": [],
   "source": [
    "criterion=torch.nn.L1Loss()\n",
    "optimizer = torch.optim.Adam(model.parameters(), lr=1e-3, weight_decay=0)"
   ]
  },
  {
   "cell_type": "code",
   "execution_count": null,
   "metadata": {},
   "outputs": [],
   "source": [
    "best_acc = 1e9\n",
    "N_b2=len(H_Train) #Train Size\n",
    "N_b3=len(H_Val) #Val Size\n",
    "bs2 = 32 #Batch Size\n",
    "N_b4 = len(H_Test) #Test Size"
   ]
  },
  {
   "cell_type": "code",
   "execution_count": null,
   "metadata": {},
   "outputs": [],
   "source": [
    "for i in range(1,151):\n",
    "    loss, acc = 0, 0\n",
    "    iters_per_epoch = 0\n",
    "    ''' Training'''\n",
    "    for k in range(0,N_b2,bs2):\n",
    "        end = min(k+bs2 , N_b2)\n",
    "        h = H_Train[k:end]\n",
    "        pos = Pos_Train[k:end]\n",
    "        iters_per_epoch+=1\n",
    "        h = torch.autograd.Variable(h,requires_grad=True)\n",
    "        pos = torch.autograd.Variable(pos,requires_grad=True)\n",
    "        h = h.to(device).float()\n",
    "        pos = pos.to(device).float()\n",
    "        optimizer.zero_grad()\n",
    "        with torch.set_grad_enabled(True):\n",
    "            '''Forward'''\n",
    "            pred = model(h)\n",
    "            iloss = criterion(pred, pos)\n",
    "            loss += iloss.item()\n",
    "            iacc = torch.dist(pred, pos, 2) / pred.shape[0]\n",
    "            acc += iacc.item()\n",
    "\n",
    "            '''BackProp'''\n",
    "            iloss.backward()\n",
    "            optimizer.step()\n",
    "            if iters_per_epoch % 10 == 0:\n",
    "                print(f'Batch {iters_per_epoch}/{N_b2/bs2}: loss = {iloss:.4f} acc = {iacc:.4f}')\n",
    "\n",
    "    loss /= iters_per_epoch\n",
    "    acc /= iters_per_epoch\n",
    "    print(k)\n",
    "    print(f'Epoch {i}/{100}: loss = {loss:.4f} acc = {acc:.4f}')\n",
    " \n",
    "    loss, acc = 0, 0\n",
    "    iters_per_epoch = 0\n",
    "\n",
    "    ''' Validation'''\n",
    "    \n",
    "    for k in range(0,N_b3,bs2):\n",
    "        iters_per_epoch +=1    \n",
    "        with torch.set_grad_enabled(False):\n",
    "                end = min(k+bs2 , N_b3)\n",
    "                h = H_Val[k:end].to(device).float()\n",
    "                pos = Pos_Val[k:end].to(device).float()\n",
    "                pred = model(h)\n",
    "                iloss = criterion(pred, pos)\n",
    "                loss += iloss.item()\n",
    "                iacc = torch.dist(pred, pos, 2) / pred.shape[0]\n",
    "                acc += iacc.item()\n",
    "    acc/=iters_per_epoch\n",
    "    loss/=iters_per_epoch\n",
    "    print(f'Validation , loss = {loss:.4f} acc = {acc:.4f}')\n",
    "    if(acc<=best_acc):\n",
    "        torch.save(model.state_dict(), \"best.pt\")\n",
    "        best_acc = acc\n",
    "    \n",
    "   \n",
    "    '''Testing'''\n",
    "    if i%5==0:\n",
    "        model2 = CNN().to(device)\n",
    "        model2.load_state_dict(torch.load(\"best.pt\",map_location=torch.device('cpu') )) \n",
    "        iters_per_epoch = 0\n",
    "        loss, acc = 0, 0\n",
    "        pos_p = torch.zeros(Pos_Test.shape)\n",
    "        for k in range(0,N_b4,bs2):\n",
    "            iters_per_epoch +=1    \n",
    "            with torch.set_grad_enabled(False):\n",
    "                    end = min(k+bs2 , N_b4)\n",
    "                    h = H_Test[k:end].to(device).float()\n",
    "                    pos = Pos_Test[k:end].to(device).float()\n",
    "                    pred = model2(h)\n",
    "                    iloss = criterion(pred, pos)\n",
    "                    loss += iloss.item()\n",
    "                    iacc = torch.dist(pred, pos, 2) / pred.shape[0]\n",
    "                    acc += iacc.item()\n",
    "                    pos_p[k:end]=pred\n",
    "        acc/=iters_per_epoch\n",
    "        loss/=iters_per_epoch\n",
    "        mde = torch.mean(torch.sqrt(torch.sum((pos_p-Pos_Test)**2 , dim=1))) \n",
    "        print(f'Test , loss = {loss:.4f} acc = {acc:.4f}  mde = {mde:.4f}')"
   ]
  }
 ],
 "metadata": {
  "kernelspec": {
   "display_name": "Python 3",
   "language": "python",
   "name": "python3"
  },
  "language_info": {
   "codemirror_mode": {
    "name": "ipython",
    "version": 3
   },
   "file_extension": ".py",
   "mimetype": "text/x-python",
   "name": "python",
   "nbconvert_exporter": "python",
   "pygments_lexer": "ipython3",
   "version": "3.8.3"
  }
 },
 "nbformat": 4,
 "nbformat_minor": 4
}
