{
  "nbformat": 4,
  "nbformat_minor": 0,
  "metadata": {
    "colab": {
      "name": "TRRS_2020.ipynb",
      "provenance": [],
      "collapsed_sections": [],
      "toc_visible": true,
      "machine_shape": "hm",
      "include_colab_link": true
    },
    "kernelspec": {
      "name": "python3",
      "display_name": "Python 3"
    }
  },
  "cells": [
    {
      "cell_type": "markdown",
      "metadata": {
        "id": "view-in-github",
        "colab_type": "text"
      },
      "source": [
        "<a href=\"https://colab.research.google.com/github/aayush2710/CTW2020-IDP/blob/master/TRRS_2020.ipynb\" target=\"_parent\"><img src=\"https://colab.research.google.com/assets/colab-badge.svg\" alt=\"Open In Colab\"/></a>"
      ]
    },
    {
      "cell_type": "code",
      "metadata": {
        "id": "aX3moxmHnbst",
        "colab_type": "code",
        "colab": {}
      },
      "source": [
        "from google.colab import drive\n",
        "drive.mount('/content/gdrive')"
      ],
      "execution_count": null,
      "outputs": []
    },
    {
      "cell_type": "code",
      "metadata": {
        "id": "i4oKpZMKnhke",
        "colab_type": "code",
        "colab": {}
      },
      "source": [
        "!ls \"/content/gdrive/My Drive/CTW_2019\""
      ],
      "execution_count": null,
      "outputs": []
    },
    {
      "cell_type": "code",
      "metadata": {
        "id": "79sTEQADnzBa",
        "colab_type": "code",
        "colab": {
          "base_uri": "https://localhost:8080/",
          "height": 34
        },
        "outputId": "2867bf45-e13c-4a50-da30-7814df579239"
      },
      "source": [
        "import numpy as np # linear algebra\n",
        "import keras\n",
        "import os\n",
        "import h5py\n",
        "import pandas as pd\n",
        "import time\n",
        "import matplotlib.pyplot as plt\n",
        "import tensorflow as tf"
      ],
      "execution_count": null,
      "outputs": [
        {
          "output_type": "stream",
          "text": [
            "Using TensorFlow backend.\n"
          ],
          "name": "stderr"
        }
      ]
    },
    {
      "cell_type": "code",
      "metadata": {
        "id": "BT9U5OK8n8eE",
        "colab_type": "code",
        "colab": {}
      },
      "source": [
        "'''#getting and processing data\n",
        "#h_Estimated   ---> shape = (2, 924, 16, 17486)\n",
        "#r_postition ---> shape = (3, 17486)\n",
        "#SNR_Est    ---> shape = (16, 17486)\n",
        "\n",
        "\n",
        "batch_size = 30\n",
        "epochs = 50\n",
        "data_augmentation = False\n",
        "save_dir = os.path.join(os.getcwd(), 'saved_models')\n",
        "model_name = 'keras_cnn_training.h5'\n",
        "'''"
      ],
      "execution_count": null,
      "outputs": []
    },
    {
      "cell_type": "code",
      "metadata": {
        "id": "65DmOehBQ2Ot",
        "colab_type": "code",
        "colab": {}
      },
      "source": [
        "#data fetching\n",
        "\n",
        "path = \"/content/gdrive/My Drive/CTW2020/CTW2020_labelled_data/file_\" + str(1) +\".hdf5\"\n",
        "f = h5py.File(path, 'r')\n",
        "obj = enumerate(f.keys())\n",
        "_, key  = next(obj)\n",
        "H_RE  = f[key][:]\n",
        "_, key  = next(obj)\n",
        "H_IM  = f[key][:]\n",
        "_, key  = next(obj)\n",
        "POS  = f[key][:]\n",
        "f.close()\n",
        "\n",
        "H = np.concatenate((H_RE[:,:,:,:,np.newaxis], H_IM[:,:,:,:,np.newaxis]), axis=4)\n",
        "del H_RE, H_IM, obj, key , _\n",
        "\n",
        "\n",
        "\n",
        "for i in range(2,10):\n",
        "    path = \"/content/gdrive/My Drive/CTW2020/CTW2020_labelled_data/file_\" + str(i) +\".hdf5\"\n",
        "    f = h5py.File(path, 'r')\n",
        "    obj = enumerate(f.keys())\n",
        "    _, key  = next(obj)\n",
        "    H_RE  = f[key][:]\n",
        "    _, key  = next(obj)\n",
        "    H_IM  = f[key][:]\n",
        "    _, key  = next(obj)\n",
        "    POSt  = f[key][:]\n",
        "    f.close()\n",
        "    Ht = np.concatenate((H_RE[:,:,:,:,np.newaxis], H_IM[:,:,:,:,np.newaxis]), axis=4)\n",
        "    H = np.concatenate((H, Ht), axis = 0)\n",
        "    POS = np.concatenate((POS, POSt), axis = 0)\n",
        "    print(POS.shape, H.shape)\n",
        "\n",
        "\n"
      ],
      "execution_count": null,
      "outputs": []
    },
    {
      "cell_type": "code",
      "metadata": {
        "id": "zAFX9xTiR7lU",
        "colab_type": "code",
        "colab": {}
      },
      "source": [
        "H = np.swapaxes(H, 1,2)"
      ],
      "execution_count": null,
      "outputs": []
    },
    {
      "cell_type": "code",
      "metadata": {
        "id": "t5Ul0-wPSoQ-",
        "colab_type": "code",
        "colab": {}
      },
      "source": [
        "H.shape"
      ],
      "execution_count": null,
      "outputs": []
    },
    {
      "cell_type": "code",
      "metadata": {
        "id": "djuPLaJmwlYf",
        "colab_type": "code",
        "colab": {}
      },
      "source": [
        "idx  = POS[POS[:,0] < 70]\n",
        "idx = np.array(idx)\n",
        "idx.shape"
      ],
      "execution_count": null,
      "outputs": []
    },
    {
      "cell_type": "code",
      "metadata": {
        "id": "Y1ojJt_EyMBf",
        "colab_type": "code",
        "colab": {}
      },
      "source": [
        "H = H[POS[:,0] < 70]\n",
        "POS = POS[POS[:,0] < 70]\n",
        "del idx\n",
        "print(H.shape, POS.shape)"
      ],
      "execution_count": null,
      "outputs": []
    },
    {
      "cell_type": "code",
      "metadata": {
        "id": "eNRQWvBaoSS8",
        "colab_type": "code",
        "colab": {}
      },
      "source": [
        "data = H[:,:,:,:1000]\n",
        "print(data.shape)\n",
        "xyz = pos[:,:1000]\n",
        "print(xyz.shape)"
      ],
      "execution_count": null,
      "outputs": []
    },
    {
      "cell_type": "code",
      "metadata": {
        "id": "N6bRey6bo3eW",
        "colab_type": "code",
        "colab": {}
      },
      "source": [
        "#Reducing the area , since not enough memory for the whole data.\n",
        "\n",
        "\n",
        "H = data[:,:,:,:900]\n",
        "H = H.swapaxes(0, -1)\n",
        "pos = xyz[:,:900]\n",
        "\n",
        "H_test = data[:,:,:,900:]\n",
        "H_test = H_test.swapaxes(0, -1)\n",
        "pos_test = xyz[:,900:]\n",
        "\n",
        "print(H.shape)\n",
        "print(pos_test.shape)"
      ],
      "execution_count": null,
      "outputs": []
    },
    {
      "cell_type": "code",
      "metadata": {
        "id": "VE18OZ1Rxf6g",
        "colab_type": "code",
        "colab": {}
      },
      "source": [
        "from sklearn.model_selection import train_test_split\n",
        "\n",
        "H, H_test, POS, POS_t = train_test_split(H, POS, random_state = 42, test_size = 0.1)\n",
        "print(H.shape, H_test.shape, POS.shape, POS_t.shape)\n"
      ],
      "execution_count": null,
      "outputs": []
    },
    {
      "cell_type": "code",
      "metadata": {
        "id": "l5LoaAG45DAn",
        "colab_type": "code",
        "colab": {}
      },
      "source": [
        "X_train = np.swapaxes(X_train, 0,3)\n",
        "H11 = H1[:,:,0] + H1[:,:,1] * 1j\n",
        "X_test = np.swapaxes(X_test, 0,3)\n",
        "print(X_train.shape, X_test.shape)"
      ],
      "execution_count": null,
      "outputs": []
    },
    {
      "cell_type": "code",
      "metadata": {
        "id": "muEX7FIF9DKM",
        "colab_type": "code",
        "colab": {}
      },
      "source": [
        "#TRRS algo\n",
        "\n",
        "def trrs(H1, H2):\n",
        "    Yd1 = np.sum((H1*H1)[:,:,:,:,0] + (H1*H1)[:,:,:,:,1] , axis=1)\n",
        "    Yd2 = np.sum((H2*H2)[:,:,:,0] + (H2*H2)[:,:,:,1] , axis=0)\n",
        "    #print((Yd1*Yd2).shape) (n,56,5)*(56,5) == (n,56,5)\n",
        "\n",
        "    H11 = H1[:,:,:,:,0] + H1[:,:,:,:,1] * 1j\n",
        "    H22 = H2[:,:,:,0] - H2[:,:,:,1] * 1j\n",
        "    G = H11 * H22\n",
        "    #(n,924,56,5)\n",
        "    \n",
        "    Nser = 1024\n",
        "    Nu = 924\n",
        "    G = np.concatenate((G, np.zeros((H1.shape[0],Nser-Nu, 56,5))), axis=1)\n",
        "    #print(G.shape)\n",
        "    #(n,1024,56,5)\n",
        "    \n",
        "    g = np.fft.fftn(G, axes=(1,))\n",
        "    #print(g.shape)  #(n,1024,56,5)\n",
        "\n",
        "\n",
        "    phi_d = np.ndarray.max((np.square(np.abs(g))), axis=1)\n",
        "    phi_d = np.divide(phi_d,(Yd1*Yd2))\n",
        "    #print(phi_d.shape) #(n,56,5)\n",
        "\n",
        "    w_d = np.sqrt((Yd1 * Yd2))\n",
        "    w_d = np.swapaxes(w_d,0,1)/(np.sqrt(np.sum(Yd1, axis=1)) * np.sum(Yd2, axis = 0))\n",
        "    w_d = np.swapaxes(w_d,0,1)\n",
        "    #print(w_d.shape) #(n, 56, 5)\n",
        "    \n",
        "    TRRS = np.sum(np.multiply(w_d,np.sqrt(phi_d)), axis=1)\n",
        "    TRRS = np.square(TRRS)\n",
        "    TRRS = np.mean(TRRS, axis = 1)\n",
        "    idx = np.argmax(TRRS)\n",
        "\n",
        "    return POS[idx,:]\n",
        "\n",
        "\n",
        "print(trrs(H, H_test[28]))\n",
        "print(POS_t[48])\n"
      ],
      "execution_count": null,
      "outputs": []
    },
    {
      "cell_type": "code",
      "metadata": {
        "id": "VKtWpP8V6xcd",
        "colab_type": "code",
        "colab": {}
      },
      "source": [
        "#Same algo as above just easy to use interface\n",
        "class TRRS:\n",
        "    def __init__(self, CFR , CFR_Pos):\n",
        "        self.CFR = CFR\n",
        "        self.CFR_Pos = CFR_Pos\n",
        "  \n",
        "    def get_fingerprint_subset(self , pos ,radius = 10):\n",
        "        out = []\n",
        "        for i in range(len(self.CFR_Pos)):\n",
        "            if np.sqrt(np.sum((pos-self.CFR_Pos[i])**2)) < radius:\n",
        "                out.append(i)\n",
        "        return np.array(out, dtype=int)\n",
        "\n",
        "    def predict(self , H2, Pos2=[] , radius=10):\n",
        "        if len(Pos2)==0:\n",
        "            idx = range(len(self.CFR))\n",
        "        else:\n",
        "            idx = self.get_fingerprint_subset(Pos2,radius)\n",
        "        H1 = self.CFR[idx]\n",
        "        POS = self.CFR_Pos[idx]\n",
        "        Yd1 = np.sum((H1*H1)[:,:,:,:,0] + (H1*H1)[:,:,:,:,1] , axis=1)\n",
        "        Yd2 = np.sum((H2*H2)[:,:,:,0] + (H2*H2)[:,:,:,1] , axis=0)\n",
        "        #print((Yd1*Yd2).shape) (n,56,5)*(56,5) == (n,56,5)\n",
        "\n",
        "        H11 = H1[:,:,:,:,0] + H1[:,:,:,:,1] * 1j\n",
        "        H22 = H2[:,:,:,0] - H2[:,:,:,1] * 1j\n",
        "        G = H11 * H22\n",
        "        #(n,924,56,5)\n",
        "        \n",
        "        Nser = 1024\n",
        "        Nu = 924\n",
        "        G = np.concatenate((G, np.zeros((H1.shape[0],Nser-Nu, 56,5))), axis=1)\n",
        "        #print(G.shape)TRRS\n",
        "        #(n,1024,56,5)\n",
        "        \n",
        "        g = np.fft.fftn(G, axes=(1,))\n",
        "        #print(g.shape)  #(n,1024,56,5)\n",
        "\n",
        "\n",
        "        phi_d = np.ndarray.max((np.square(np.abs(g))), axis=1)\n",
        "        phi_d = np.divide(phi_d,(Yd1*Yd2))\n",
        "        #print(phi_d.shape) #(n,56,5)\n",
        "\n",
        "        w_d = np.sqrt((Yd1 * Yd2))\n",
        "        w_d = np.swapaxes(w_d,0,1)/(np.sqrt(np.sum(Yd1, axis=1)) * np.sum(Yd2, axis = 0))\n",
        "        w_d = np.swapaxes(w_d,0,1)\n",
        "        #print(w_d.shape) #(n, 56, 5)\n",
        "        \n",
        "        TRRS = np.sum(np.multiply(w_d,np.sqrt(phi_d)), axis=1)\n",
        "        TRRS = np.square(TRRS)\n",
        "        TRRS = np.max(TRRS, axis = 1)\n",
        "        try:\n",
        "            idx = np.argmax(TRRS)\n",
        "        except:\n",
        "            return self.pos2\n",
        "\n",
        "        \n",
        "        return POS[idx,:]"
      ],
      "execution_count": null,
      "outputs": []
    },
    {
      "cell_type": "code",
      "metadata": {
        "id": "Mx3-tAfL9Nox",
        "colab_type": "code",
        "colab": {}
      },
      "source": [
        "trrs = TRRS(H, POS)"
      ],
      "execution_count": null,
      "outputs": []
    },
    {
      "cell_type": "code",
      "metadata": {
        "id": "S9MJpXBbE4Ng",
        "colab_type": "code",
        "colab": {}
      },
      "source": [
        "#Trying to simulate NN + TRRS by adding arbitary noise and then predicting using TRRS\n",
        "\n",
        "test_sample = np.random.randint(0,POS_t.shape[0])\n",
        "plt.scatter(POS[:,0], POS[:,1])\n",
        "plt.scatter(POS_t[test_sample,0], POS_t[test_sample,1])\n",
        "print(POS_t[test_sample])\n",
        "\n",
        "\n",
        "def add_noise(pos):\n",
        "    gg = np.zeros((pos.shape))\n",
        "    gg[:2]  = pos[:2] + np.random.normal(4,2,2)\n",
        "    gg[-1] = pos[-1] + np.random.normal(0,1,1)\n",
        "    return gg\n",
        "\n",
        "\n",
        "print(POS_t[test_sample], add_noise(POS_t[test_sample]))"
      ],
      "execution_count": null,
      "outputs": []
    },
    {
      "cell_type": "code",
      "metadata": {
        "id": "CAMSL8fE_Jes",
        "colab_type": "code",
        "colab": {}
      },
      "source": [
        "sample = np.array(trrs.predict(H_test[test_sample], add_noise(POS_t[test_sample]), radius=30))\n",
        "print(sample)\n",
        "\n",
        "print(np.sqrt(np.sum(np.square(POS_t[test_sample] -add_noise(POS_t[test_sample])))))\n",
        "print(np.sqrt(np.sum(np.square(add_noise(POS_t[test_sample]) -sample))))\n",
        "print(np.sqrt(np.sum(np.square(POS_t[test_sample] -sample))))"
      ],
      "execution_count": null,
      "outputs": []
    },
    {
      "cell_type": "code",
      "metadata": {
        "id": "ugxW8C6-hQuE",
        "colab_type": "code",
        "colab": {}
      },
      "source": [
        "samples = []\n",
        "noisy = []\n",
        "\n",
        "\n",
        "for i in range(POS_t.shape[0]):\n",
        "    temp = add_noise(POS_t[i])\n",
        "    noisy.append(temp)\n",
        "    samples.append(trrs.predict(H_test[i], temp, radius=30))\n",
        "\n",
        "    print(\"%d / %d\" %(i+1, POS_t.shape[0]))\n",
        "\n",
        "\n"
      ],
      "execution_count": null,
      "outputs": []
    },
    {
      "cell_type": "code",
      "metadata": {
        "id": "aZRQccuViyu_",
        "colab_type": "code",
        "colab": {}
      },
      "source": [
        "samples, noisy = np.array(samples) , np.array(noisy)\n",
        "\n",
        "print(np.mean(np.sqrt(np.sum(np.square(noisy - POS_t), axis = 1))))\n",
        "print(np.mean(np.sqrt(np.sum(np.square(samples-POS_t), axis=1))))\n"
      ],
      "execution_count": null,
      "outputs": []
    },
    {
      "cell_type": "code",
      "metadata": {
        "id": "FrMwpHe7RMmY",
        "colab_type": "code",
        "colab": {}
      },
      "source": [
        "import time as time\n",
        "ans_grid = np.zeros((POS_t.shape))\n",
        "\n",
        "for i in range(POS_t.shape[0]):\n",
        "    start_time = time.time()\n",
        "    ans_grid[i] = trrs(H,H_test[i])\n",
        "    print(ans_grid[i], POS_t[i])\n",
        "    print(\"%d / %d\"%(i, POS_t.shape[0]))\n",
        "    print(\"<------Time elapsed %s ------>\" %(time.time()-start_time))\n",
        "\n",
        "err = np.sqrt(((ans_grid - pos_test) ** 2).mean())\n",
        "\n",
        "print(err)\n"
      ],
      "execution_count": null,
      "outputs": []
    },
    {
      "cell_type": "code",
      "metadata": {
        "id": "XR7Qp2KEIaaQ",
        "colab_type": "code",
        "colab": {}
      },
      "source": [
        "#Testing\n",
        "\n",
        "import time\n",
        "start_time = time.time()\n",
        "errors = []\n",
        "for idx, ele in enumerate(X_test):\n",
        "  sample_time = time.time()\n",
        "  print(idx, ele.shape)\n",
        "  errors.append(np.sqrt(np.sum((y_test[:,idx] - trrs(X_train, ele))**2)))\n",
        "  print(errors[idx])\n",
        "  print(\"------%s seconds for this sample ------->>>>>>>>>>>>>>>>>>>>>>>>>\" % (time.time()-sample_time))\n",
        "print(np.mean(errors))\n",
        "print(\"--- %s seconds ---\" % (time.time() - start_time))\n"
      ],
      "execution_count": null,
      "outputs": []
    }
  ]
}